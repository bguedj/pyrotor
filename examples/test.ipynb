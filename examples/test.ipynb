{
 "cells": [
  {
   "cell_type": "markdown",
   "metadata": {},
   "source": [
    "# Test PyRotor"
   ]
  },
  {
   "cell_type": "markdown",
   "metadata": {},
   "source": [
    "## Define setting"
   ]
  },
  {
   "cell_type": "markdown",
   "metadata": {},
   "source": [
    "### Define quadratic cost function"
   ]
  },
  {
   "cell_type": "code",
   "execution_count": 1,
   "metadata": {},
   "outputs": [],
   "source": [
    "# Quadratic part\n",
    "q = np.array([1,0],\n",
    "             [0,1])\n",
    "# Linear part\n",
    "w = np.array([0,0])\n",
    "\n",
    "quad_model = [w, q]"
   ]
  },
  {
   "cell_type": "markdown",
   "metadata": {},
   "source": [
    "### Define initial and final states"
   ]
  },
  {
   "cell_type": "code",
   "execution_count": null,
   "metadata": {},
   "outputs": [],
   "source": [
    "endpoints = {'x1': {'start': .1,\n",
    "                    'end': .9,\n",
    "                    'delta': .01},\n",
    "             'x2': {'start': .828,\n",
    "                    'end': .172,\n",
    "                    'delta': .01}}"
   ]
  },
  {
   "cell_type": "markdown",
   "metadata": {},
   "source": [
    "### Define independent variable (time)"
   ]
  },
  {
   "cell_type": "code",
   "execution_count": null,
   "metadata": {},
   "outputs": [],
   "source": [
    "independent_variable = {'start': .1,\n",
    "                        'end': .9,\n",
    "                        'frequency': .01}\n",
    "# Compute number of evaluation points\n",
    "delta_time = independent_variable['end'] - independent_variable['start']\n",
    "delta_time /= independent_variable['frequency']\n",
    "independent_variable['points_nb'] = int(delta_time) + 1"
   ]
  },
  {
   "cell_type": "markdown",
   "metadata": {},
   "source": [
    "### Define constraints"
   ]
  },
  {
   "cell_type": "code",
   "execution_count": null,
   "metadata": {},
   "outputs": [],
   "source": [
    "# Constraints\n",
    "# x1 > 0\n",
    "def f1(data):\n",
    "    x1 = data[\"x1\"].values\n",
    "    return x1\n",
    "\n",
    "# x1 < 1\n",
    "def f2(data):\n",
    "    x1 = data[\"x1\"].values\n",
    "    return 1 - x1\n",
    "\n",
    "# x2 > 0\n",
    "def f3(data):\n",
    "    x2 = data[\"x2\"].values\n",
    "    return x2\n",
    "\n",
    "# x2 < 1\n",
    "def f4(data):\n",
    "    x2 = data[\"x2\"].values\n",
    "    return 1 - x2\n",
    "\n",
    "# x2 > f(x1)\n",
    "def f5(data):\n",
    "    x1 = data[\"x1\"].values\n",
    "    x2 = data[\"x2\"].values\n",
    "    return x2 - 150/19 * (1-x1)**3 + 225/19 * (1-x1)**2 - 100/19 * (1-x1) + 79/190\n",
    "\n",
    "constraints = [f1, f2, f3, f4, f5]"
   ]
  },
  {
   "cell_type": "markdown",
   "metadata": {},
   "source": [
    "### Define functional basis"
   ]
  },
  {
   "cell_type": "code",
   "execution_count": null,
   "metadata": {},
   "outputs": [],
   "source": [
    "# Basis name\n",
    "basis = 'legendre'\n",
    "# Dimension for each variable\n",
    "basis_dimension = {'x1': 5,\n",
    "                   'x2': 5}"
   ]
  },
  {
   "cell_type": "markdown",
   "metadata": {},
   "source": [
    "### Define iteration setting"
   ]
  },
  {
   "cell_type": "code",
   "execution_count": null,
   "metadata": {},
   "outputs": [],
   "source": [
    "iteration_setting = {'early_stopping_threshold': }"
   ]
  },
  {
   "cell_type": "markdown",
   "metadata": {},
   "source": [
    "### Import reference trajectories"
   ]
  },
  {
   "cell_type": "code",
   "execution_count": null,
   "metadata": {},
   "outputs": [],
   "source": []
  },
  {
   "cell_type": "markdown",
   "metadata": {},
   "source": [
    "## Optimization"
   ]
  },
  {
   "cell_type": "markdown",
   "metadata": {},
   "source": [
    "### Create PyRotor class"
   ]
  },
  {
   "cell_type": "code",
   "execution_count": null,
   "metadata": {},
   "outputs": [],
   "source": []
  },
  {
   "cell_type": "markdown",
   "metadata": {},
   "source": [
    "### Execute PyRotor solver"
   ]
  },
  {
   "cell_type": "code",
   "execution_count": null,
   "metadata": {},
   "outputs": [],
   "source": []
  },
  {
   "cell_type": "markdown",
   "metadata": {},
   "source": [
    "### Compute savings"
   ]
  },
  {
   "cell_type": "code",
   "execution_count": null,
   "metadata": {},
   "outputs": [],
   "source": []
  },
  {
   "cell_type": "markdown",
   "metadata": {},
   "source": [
    "## Plot"
   ]
  },
  {
   "cell_type": "code",
   "execution_count": null,
   "metadata": {},
   "outputs": [],
   "source": [
    "X = np.linspace(independent_variable['start'],\n",
    "                independent_variable['end'],\n",
    "                independent_variable['points_nb'])\n",
    "X_ = np.linspace(0, 1, 101)\n",
    "\n",
    "fig, (ax1, ax2, ax3) = plt.subplots(3, 1)\n",
    "ax1.plot(X, y_optimized['x1'])\n",
    "ax3.set_xlabel('$t$')\n",
    "ax3.set_ylabel('$x_1(t)$')\n",
    "ax2.plot(X, y_optimized['x2'])\n",
    "ax3.set_xlabel('$t$')\n",
    "ax3.set_ylabel('$x_2(t)$')\n",
    "ax3.plot(y_optimized['x1'], y_optimized['x2'])\n",
    "ax3.fill_between(X_, 0, constraint_f5, color='r', alpha=.5, label='Forbidden area')\n",
    "ax3.set_xlabel('$x_1$')\n",
    "ax3.set_ylabel('$x_2$')\n",
    "ax3.set_xlim(left=0, right=1)\n",
    "ax3.set_ylim(bottom=0, top=1)\n",
    "ax3.legend()\n",
    "plt.tight_layout()"
   ]
  }
 ],
 "metadata": {
  "kernelspec": {
   "display_name": "Python 3",
   "language": "python",
   "name": "python3"
  },
  "language_info": {
   "codemirror_mode": {
    "name": "ipython",
    "version": 3
   },
   "file_extension": ".py",
   "mimetype": "text/x-python",
   "name": "python",
   "nbconvert_exporter": "python",
   "pygments_lexer": "ipython3",
   "version": "3.7.4"
  }
 },
 "nbformat": 4,
 "nbformat_minor": 4
}