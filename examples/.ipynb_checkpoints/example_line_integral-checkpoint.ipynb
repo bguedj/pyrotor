{
 "cells": [
  {
   "cell_type": "markdown",
   "metadata": {},
   "source": [
    "# Example on line integrals of a vector field"
   ]
  },
  {
   "cell_type": "code",
   "execution_count": null,
   "metadata": {},
   "outputs": [],
   "source": [
    "import numpy as np\n",
    "import pandas as pd\n",
    "\n",
    "import matplotlib.pyplot as plt\n",
    "from matplotlib import cm\n",
    "\n",
    "from glob import glob\n",
    "\n",
    "import pyrotor\n",
    "from pyrotor.data_analysis import add_derivatives"
   ]
  },
  {
   "cell_type": "markdown",
   "metadata": {},
   "source": [
    "## Define setting"
   ]
  },
  {
   "cell_type": "markdown",
   "metadata": {},
   "source": [
    "### Define cost function"
   ]
  },
  {
   "cell_type": "code",
   "execution_count": null,
   "metadata": {},
   "outputs": [],
   "source": [
    "# Here a trajectory is defined by (y_1, y_2, y_1', y_2')\n",
    "\n",
    "# Model power F(y)^T y' with F(y) = (0, y_1)\n",
    "q_force = np.array([[0,0,0,1],\n",
    "                    [0,0,0,0],\n",
    "                    [0,0,0,0],\n",
    "                    [1,0,0,0]])\n",
    "# Model L2-norm of y'\n",
    "q_norm = np.array([[0,0,0,0],\n",
    "                   [0,0,0,0],\n",
    "                   [0,0,1,0],\n",
    "                   [0,0,0,1]])\n",
    "# Define hyperparameter\n",
    "alpha = .35\n",
    "# Final quadratic part\n",
    "q = alpha * q_norm - q_force\n",
    "\n",
    "# Linear part\n",
    "w = np.array([0,0,0,0])\n",
    "\n",
    "# Constant part\n",
    "c = 0\n",
    "\n",
    "quadratic_model = [c, w, q]"
   ]
  },
  {
   "cell_type": "markdown",
   "metadata": {},
   "source": [
    "### Define initial and final states"
   ]
  },
  {
   "cell_type": "code",
   "execution_count": null,
   "metadata": {},
   "outputs": [],
   "source": [
    "endpoints = {'x1': {'start': .111,\n",
    "                    'end': .912,\n",
    "                    'delta': 0.0001},\n",
    "             'x2': {'start': .926,\n",
    "                    'end': .211,\n",
    "                    'delta': 0.0001}}"
   ]
  },
  {
   "cell_type": "markdown",
   "metadata": {},
   "source": [
    "### Define independent variable (time)"
   ]
  },
  {
   "cell_type": "code",
   "execution_count": null,
   "metadata": {},
   "outputs": [],
   "source": [
    "independent_variable = {'start': .1,\n",
    "                        'end': .9,\n",
    "                        'frequency': .01}\n",
    "# Compute number of evaluation points\n",
    "delta_time = independent_variable['end'] - independent_variable['start']\n",
    "delta_time /= independent_variable['frequency']\n",
    "independent_variable['points_nb'] = int(delta_time) + 1"
   ]
  },
  {
   "cell_type": "markdown",
   "metadata": {},
   "source": [
    "### Define constraints"
   ]
  },
  {
   "cell_type": "code",
   "execution_count": null,
   "metadata": {},
   "outputs": [],
   "source": [
    "# x1 > 0\n",
    "def f1(data):\n",
    "    x1 = data[\"x1\"].values\n",
    "    return x1\n",
    "\n",
    "# x1 < 1\n",
    "def f2(data):\n",
    "    x1 = data[\"x1\"].values\n",
    "    return 1 - x1\n",
    "\n",
    "# x2 > 0\n",
    "def f3(data):\n",
    "    x2 = data[\"x2\"].values\n",
    "    return x2\n",
    "\n",
    "# x2 < 1\n",
    "def f4(data):\n",
    "    x2 = data[\"x2\"].values\n",
    "    return 1 - x2\n",
    "\n",
    "constraints = [f1, f2, f3, f4]"
   ]
  },
  {
   "cell_type": "markdown",
   "metadata": {},
   "source": [
    "### Define functional basis"
   ]
  },
  {
   "cell_type": "code",
   "execution_count": null,
   "metadata": {},
   "outputs": [],
   "source": [
    "basis = 'bspline'\n",
    "if basis == 'legendre':\n",
    "    basis_features = {'x1': 4,\n",
    "                      'x2': 6}\n",
    "elif basis == 'bspline':\n",
    "    basis_features = {'knots': [.33, .66],\n",
    "                      'x1': 3,\n",
    "                      'x2': 4}"
   ]
  },
  {
   "cell_type": "markdown",
   "metadata": {},
   "source": [
    "### Import reference trajectories"
   ]
  },
  {
   "cell_type": "code",
   "execution_count": null,
   "metadata": {},
   "outputs": [],
   "source": [
    "reference_trajectories = pyrotor.datasets.load_toy_dataset('example_1')"
   ]
  },
  {
   "cell_type": "markdown",
   "metadata": {},
   "source": [
    "## Optimize"
   ]
  },
  {
   "cell_type": "markdown",
   "metadata": {},
   "source": [
    "### Create PyRotor class"
   ]
  },
  {
   "cell_type": "code",
   "execution_count": null,
   "metadata": {
    "scrolled": true
   },
   "outputs": [],
   "source": [
    "pyrotor_class = pyrotor.Pyrotor(quadratic_model, \n",
    "                                reference_trajectories, \n",
    "                                endpoints, \n",
    "                                constraints, \n",
    "                                basis, \n",
    "                                basis_features, \n",
    "                                independent_variable, \n",
    "                                n_best_trajectory_to_use=10,\n",
    "                                opti_factor=1,\n",
    "                                derivative=True,\n",
    "                                use_quadratic_programming=False,\n",
    "                                verbose=True)"
   ]
  },
  {
   "cell_type": "markdown",
   "metadata": {},
   "source": [
    "### Execute PyRotor solver"
   ]
  },
  {
   "cell_type": "code",
   "execution_count": null,
   "metadata": {
    "scrolled": true
   },
   "outputs": [],
   "source": [
    "pyrotor_class.compute_optimal_trajectory()"
   ]
  },
  {
   "cell_type": "markdown",
   "metadata": {},
   "source": [
    "## Compute gains"
   ]
  },
  {
   "cell_type": "markdown",
   "metadata": {},
   "source": [
    "### Define power"
   ]
  },
  {
   "cell_type": "code",
   "execution_count": null,
   "metadata": {},
   "outputs": [],
   "source": [
    "def power(traj, q):\n",
    "    \"\"\"\n",
    "    Compute power of a force modelled by q along a trajectory.\n",
    "    \"\"\"\n",
    "    if 'cost' in traj.columns:\n",
    "        traj = traj.drop(['cost'], axis=1, inplace=False)\n",
    "    traj_deriv = add_derivatives([traj], pyrotor_class.basis_dimension)\n",
    "    traj_deriv = traj_deriv[0].values\n",
    "    p = np.dot(traj_deriv, q)\n",
    "    p = (p * traj_deriv).sum(-1)\n",
    "    \n",
    "    return p"
   ]
  },
  {
   "cell_type": "markdown",
   "metadata": {},
   "source": [
    "### Compute optimised power and deduce work gains"
   ]
  },
  {
   "cell_type": "code",
   "execution_count": null,
   "metadata": {},
   "outputs": [],
   "source": [
    "# Compute optimised power\n",
    "P_opt = power(pyrotor_class.trajectory, q_force)\n",
    "# Deduce optimised work\n",
    "W_opt = np.sum(P_opt)\n",
    "# Compute reference works\n",
    "W_ref = [np.sum(power(traj, q_force)) for traj in reference_trajectories]\n",
    "# Deduce gains [%]\n",
    "gains = pd.Series([(W_opt - W) / np.abs(W) * 100 for W in W_ref], name='Work gains [%]')\n",
    "# Display gains\n",
    "pd.options.display.float_format = \"{:,.2f}\".format\n",
    "print(gains.describe())"
   ]
  },
  {
   "cell_type": "markdown",
   "metadata": {},
   "source": [
    "## Plot"
   ]
  },
  {
   "cell_type": "code",
   "execution_count": null,
   "metadata": {},
   "outputs": [],
   "source": [
    "# Define time axis\n",
    "X = np.linspace(independent_variable['start'],\n",
    "                independent_variable['end'],\n",
    "                independent_variable['points_nb'])\n",
    "\n",
    "# Model vector field\n",
    "positions_x, positions_y = np.meshgrid(np.arange(0,1,.1), np.arange(0,1,.2))\n",
    "arrays_y = positions_x\n",
    "arrays_x = np.zeros_like(arrays_y)\n",
    "\n",
    "# Get maximal values for power\n",
    "P_min = np.min(P_opt)\n",
    "P_max = np.max(P_opt)\n",
    "\n",
    "# Plot\n",
    "fig, (ax1, ax2, ax3) = plt.subplots(3, 1, figsize=(12, 20))\n",
    "# Plot first variable with respect to time\n",
    "ax1.plot(X, pyrotor_class.trajectory['x1'])\n",
    "ax1.plot(X, pyrotor_class.reference_trajectories[0]['x1'], linestyle=':')\n",
    "ax1.set_xlabel('$t$')\n",
    "ax1.set_ylabel('$x_1(t)$')\n",
    "# Plot second variable with respect to time\n",
    "ax2.plot(X, pyrotor_class.trajectory['x2'])\n",
    "ax2.plot(X, pyrotor_class.reference_trajectories[0]['x2'], linestyle=':')\n",
    "ax2.set_xlabel('$t$')\n",
    "ax2.set_ylabel('$x_2(t)$')\n",
    "# Plot in (x_1, x_2) space\n",
    "ax3.plot(pyrotor_class.trajectory['x1'], pyrotor_class.trajectory['x2'], c='b', alpha=.5, label='Optimised')\n",
    "im = ax3.scatter(pyrotor_class.trajectory['x1'], pyrotor_class.trajectory['x2'], c=P_opt, vmin=P_min, vmax=P_max)\n",
    "for trajectory in pyrotor_class.reference_trajectories:\n",
    "    ax3.plot(trajectory['x1'], trajectory['x2'], linestyle=\":\", label='_nolegend_')\n",
    "ax3.quiver(positions_x, positions_y, arrays_x, arrays_y, color='r', width=.004, alpha=.5)\n",
    "fig.colorbar(im, ax=ax3)\n",
    "ax3.set_xlabel('$x_1$')\n",
    "ax3.set_ylabel('$x_2$')\n",
    "ax3.set_xlim(left=0, right=1)\n",
    "ax3.set_ylim(bottom=0, top=1)\n",
    "ax3.legend()\n",
    "plt.tight_layout()"
   ]
  }
 ],
 "metadata": {
  "kernelspec": {
   "display_name": "Python 3",
   "language": "python",
   "name": "python3"
  },
  "language_info": {
   "codemirror_mode": {
    "name": "ipython",
    "version": 3
   },
   "file_extension": ".py",
   "mimetype": "text/x-python",
   "name": "python",
   "nbconvert_exporter": "python",
   "pygments_lexer": "ipython3",
   "version": "3.7.2"
  }
 },
 "nbformat": 4,
 "nbformat_minor": 4
}