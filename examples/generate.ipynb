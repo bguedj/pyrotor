{
 "cells": [
  {
   "cell_type": "markdown",
   "metadata": {},
   "source": [
    "# Generate trajectories"
   ]
  },
  {
   "cell_type": "markdown",
   "metadata": {},
   "source": [
    "## Import packages"
   ]
  },
  {
   "cell_type": "code",
   "execution_count": 1,
   "metadata": {},
   "outputs": [],
   "source": [
    "import os\n",
    "from datetime import datetime\n",
    "\n",
    "import numpy as np\n",
    "import pandas as pd\n",
    "import matplotlib.pyplot as plt\n",
    "\n",
    "from numpy.polynomial import legendre\n",
    "from scipy.linalg import block_diag\n",
    "\n",
    "from pyrotor.constraints import is_in_constraints\n",
    "from pyrotor.projection import trajectory_to_coef, coef_to_trajectory\n",
    "from pyrotor.data_analysis import compute_covariance\n",
    "from pyrotor.linear_conditions import get_endpoints_matrix"
   ]
  },
  {
   "cell_type": "markdown",
   "metadata": {},
   "source": [
    "## Define functions"
   ]
  },
  {
   "cell_type": "code",
   "execution_count": 2,
   "metadata": {},
   "outputs": [],
   "source": [
    "def order_of_magnitude(x):\n",
    "    \"\"\"\n",
    "    Find order of magnitude of each component of an array.\n",
    "    \"\"\"\n",
    "    alpha = np.floor(np.log10(np.abs(x)))\n",
    "    \n",
    "    return np.nan_to_num(alpha)"
   ]
  },
  {
   "cell_type": "code",
   "execution_count": 3,
   "metadata": {},
   "outputs": [],
   "source": [
    "def projection_kernel(basis_dimension, endpoints):\n",
    "    \"\"\"\n",
    "    Compute projector onto the kernel of the matrix phi describing endpoints conditions.\n",
    "    \"\"\"\n",
    "    # Build endpoints conditions matrix\n",
    "    phi = get_endpoints_matrix(basis_dimension, endpoints)\n",
    "    # Compute SVD\n",
    "    _, S, V = np.linalg.svd(phi, full_matrices=True)\n",
    "    # Find singular vectors in kernel\n",
    "    indices_kernel = np.where(S == 0)\n",
    "    if len(indices_kernel[0]) > 0:\n",
    "        first_index = indices_kernel[0][0]\n",
    "    else:\n",
    "        first_index = len(S)\n",
    "    # Compute projector\n",
    "    V = V.T\n",
    "    P_kerphi = np.dot(V[:,first_index:], V[:,first_index:].T)\n",
    "    \n",
    "    return P_kerphi"
   ]
  },
  {
   "cell_type": "markdown",
   "metadata": {},
   "source": [
    "## Initialise generation"
   ]
  },
  {
   "cell_type": "markdown",
   "metadata": {},
   "source": [
    "### Define constraints"
   ]
  },
  {
   "cell_type": "code",
   "execution_count": 4,
   "metadata": {},
   "outputs": [],
   "source": [
    "# x1 > 0\n",
    "def f1(data):\n",
    "    x1 = data[\"x1\"].values\n",
    "    return x1\n",
    "\n",
    "# x1 < 1\n",
    "def f2(data):\n",
    "    x1 = data[\"x1\"].values\n",
    "    return 1 - x1\n",
    "\n",
    "# x2 > 0\n",
    "def f3(data):\n",
    "    x2 = data[\"x2\"].values\n",
    "    return x2\n",
    "\n",
    "# x2 < 1\n",
    "def f4(data):\n",
    "    x2 = data[\"x2\"].values\n",
    "    return 1 - x2\n",
    "\n",
    "# x2 > f(x1)\n",
    "def f5(data):\n",
    "    x1 = data[\"x1\"].values\n",
    "    x2 = data[\"x2\"].values\n",
    "    return x2 - 150/19 * (1-x1)**3 + 225/19 * (1-x1)**2 - 100/19 * (1-x1) + 79/190 - .05\n",
    "\n",
    "constraints = [f1, f2, f3, f4, f5]"
   ]
  },
  {
   "cell_type": "markdown",
   "metadata": {},
   "source": [
    "### Define initial and final states"
   ]
  },
  {
   "cell_type": "code",
   "execution_count": 5,
   "metadata": {},
   "outputs": [],
   "source": [
    "example = 2"
   ]
  },
  {
   "cell_type": "code",
   "execution_count": 6,
   "metadata": {},
   "outputs": [],
   "source": [
    "if example == 1:\n",
    "    endpoints = {'x1': {'start': .1,\n",
    "                        'end': .9,\n",
    "                        'delta': .01},\n",
    "                 'x2': {'start': .828,\n",
    "                        'end': .172,\n",
    "                        'delta': .01}}\n",
    "elif example == 2:\n",
    "    endpoints = {'x1': {'start': .1,\n",
    "                        'end': .9,\n",
    "                        'delta': 0},\n",
    "                 'x2': {'start': .9,\n",
    "                        'end': .2,\n",
    "                        'delta': 0}}"
   ]
  },
  {
   "cell_type": "markdown",
   "metadata": {},
   "source": [
    "### Define independent variable (time)"
   ]
  },
  {
   "cell_type": "code",
   "execution_count": 7,
   "metadata": {},
   "outputs": [],
   "source": [
    "independent_variable = {'start': .1,\n",
    "                        'end': .9,\n",
    "                        'frequency': .01}\n",
    "# Compute number of evaluation points\n",
    "delta_time = independent_variable['end'] - independent_variable['start']\n",
    "delta_time /= independent_variable['frequency']\n",
    "independent_variable['points_nb'] = int(delta_time) + 1"
   ]
  },
  {
   "cell_type": "markdown",
   "metadata": {},
   "source": [
    "### Define reference trajectory"
   ]
  },
  {
   "cell_type": "code",
   "execution_count": 8,
   "metadata": {},
   "outputs": [],
   "source": [
    "# First component\n",
    "def y1(t):\n",
    "    if example == 1:\n",
    "        return t\n",
    "    elif example == 2:\n",
    "        if .1 <= t < .5:\n",
    "            y1 = .75 * (t - .1) + .1\n",
    "        elif .5 <= t <= .9:\n",
    "            y1 = 1.25 * (t - .9) + .9\n",
    "        return y1\n",
    "# Second component\n",
    "def y2(t):\n",
    "    if example == 1:\n",
    "        return -2 * t**3 + 3 * t**2 - 2 * t + 1\n",
    "    elif example == 2:\n",
    "        if .1 <= t < .3:\n",
    "            y2 = -3 * t + 1.2\n",
    "        elif .3 <= t < .7:\n",
    "            y2 = .25 * t + .225\n",
    "        elif .7 <= t <= .9:\n",
    "            y2 = -t + 1.1\n",
    "        return y2\n",
    "\n",
    "# Create dataframe\n",
    "y = pd.DataFrame()\n",
    "time = np.linspace(independent_variable['start'],\n",
    "                   independent_variable['end'],\n",
    "                   independent_variable['points_nb'])\n",
    "y['x1'] = np.array([y1(t) for t in time])\n",
    "y['x2'] = np.array([y2(t) for t in time])"
   ]
  },
  {
   "cell_type": "markdown",
   "metadata": {},
   "source": [
    "### Plot to visualise reference trajectory and constraints"
   ]
  },
  {
   "cell_type": "code",
   "execution_count": 9,
   "metadata": {},
   "outputs": [],
   "source": [
    "X = np.linspace(0, 1, 101)\n",
    "constraint_f5 = np.array([150/19 * (1-x)**3 - 225/19 * (1-x)**2 + 100/19 * (1-x) - 79/190 for x in X])\n",
    "\n",
    "fig, ax = plt.subplots(figsize=(10,7))\n",
    "ax.plot(y['x1'], y['x2'], label='Reference trajectory', color='b')\n",
    "ax.fill_between(X, 0, constraint_f5, color='r', alpha=.5, label='Forbidden area')\n",
    "ax.set_xlabel('$x_1$')\n",
    "ax.set_ylabel('$x_2$')\n",
    "ax.set_xlim(left=0, right=1)\n",
    "ax.set_ylim(bottom=0, top=1)\n",
    "ax.legend()\n",
    "plt.tight_layout()"
   ]
  },
  {
   "cell_type": "markdown",
   "metadata": {},
   "source": [
    "### Define functional basis and project reference trajectory"
   ]
  },
  {
   "cell_type": "code",
   "execution_count": 10,
   "metadata": {},
   "outputs": [],
   "source": [
    "# Basis name\n",
    "basis = 'legendre'\n",
    "# Dimension for each variable\n",
    "basis_dimension = {'x1': 4,\n",
    "                   'x2': 6}"
   ]
  },
  {
   "cell_type": "code",
   "execution_count": 11,
   "metadata": {},
   "outputs": [],
   "source": [
    "# Project\n",
    "c = trajectory_to_coef(y, basis, basis_dimension)"
   ]
  },
  {
   "cell_type": "markdown",
   "metadata": {},
   "source": [
    "### Compute magnitude of each coefficient and add up small perturbations"
   ]
  },
  {
   "cell_type": "code",
   "execution_count": 12,
   "metadata": {},
   "outputs": [],
   "source": [
    "magnitude = []\n",
    "# Compute magnitude\n",
    "magnitude = order_of_magnitude(c)\n",
    "# Add Gaussian noise\n",
    "noise = np.random.normal(0, 1, len(c))\n",
    "magnitude += noise.astype(int)"
   ]
  },
  {
   "cell_type": "markdown",
   "metadata": {},
   "source": [
    "## Generate trajectories"
   ]
  },
  {
   "cell_type": "markdown",
   "metadata": {},
   "source": [
    "### Compute projector over phi kernel to preserve endpoints conditions"
   ]
  },
  {
   "cell_type": "code",
   "execution_count": 13,
   "metadata": {},
   "outputs": [],
   "source": [
    "P_kerphi = projection_kernel(basis_dimension, endpoints)"
   ]
  },
  {
   "cell_type": "markdown",
   "metadata": {},
   "source": [
    "### Generate new trajectories via perturbation"
   ]
  },
  {
   "cell_type": "code",
   "execution_count": 14,
   "metadata": {},
   "outputs": [],
   "source": [
    "# Choose number of flights to generate\n",
    "I = 1000\n",
    "# Generate\n",
    "coefs_reference = []\n",
    "for i in range(I):\n",
    "    # Generate Gaussian noise depending on order of magnitude of coefficients\n",
    "    noise = np.random.normal(0, .2, len(c)) * np.float_power(10, magnitude)\n",
    "    # Project noise onto kernel of phi\n",
    "    noise = np.dot(P_kerphi, noise)\n",
    "    # Perturbe\n",
    "    coef_reference = c + noise\n",
    "    coefs_reference.append(coef_reference)"
   ]
  },
  {
   "cell_type": "markdown",
   "metadata": {},
   "source": [
    "### Build trajectories"
   ]
  },
  {
   "cell_type": "code",
   "execution_count": 15,
   "metadata": {},
   "outputs": [],
   "source": [
    "trajs_reference = []\n",
    "points_nb = len(y)\n",
    "for i in range(I):\n",
    "    yi = coef_to_trajectory(coefs_reference[i], points_nb, 'legendre', basis_dimension)\n",
    "    trajs_reference.append(yi)"
   ]
  },
  {
   "cell_type": "markdown",
   "metadata": {},
   "source": [
    "### Check constraints and keep acceptable generated trajectories"
   ]
  },
  {
   "cell_type": "code",
   "execution_count": 16,
   "metadata": {},
   "outputs": [],
   "source": [
    "trajs_acceptable = []\n",
    "cost_by_time = np.zeros(points_nb)\n",
    "for i in range(I):\n",
    "    boolean = is_in_constraints(trajs_reference[i], constraints, cost_by_time)\n",
    "    if boolean:\n",
    "        trajs_acceptable.append(trajs_reference[i].drop(columns='cost'))\n",
    "\n",
    "trajs_acceptable_nb = len(trajs_acceptable)\n",
    "print('Number of acceptable trajectories = ', trajs_acceptable_nb)"
   ]
  },
  {
   "cell_type": "markdown",
   "metadata": {},
   "source": [
    "### Plot"
   ]
  },
  {
   "cell_type": "code",
   "execution_count": 17,
   "metadata": {},
   "outputs": [],
   "source": [
    "fig, ax = plt.subplots(figsize=(10,7))\n",
    "ax.plot(y['x1'], y['x2'], label='Reference trajectory', color='b')\n",
    "for i in range(trajs_acceptable_nb):\n",
    "    ax.plot(trajs_acceptable[i]['x1'], trajs_acceptable[i]['x2'], label='_nolegend_', linestyle='--')\n",
    "ax.fill_between(X, 0, constraint_f5, color='r', alpha=.5, label='Forbidden area')\n",
    "ax.set_xlabel('$x_1$')\n",
    "ax.set_ylabel('$x_2$')\n",
    "ax.set_xlim(left=0, right=1)\n",
    "ax.set_ylim(bottom=0, top=1)\n",
    "ax.legend()\n",
    "plt.tight_layout()\n",
    "plt.savefig('fig.svg')"
   ]
  },
  {
   "cell_type": "markdown",
   "metadata": {},
   "source": [
    "### Export to csv files"
   ]
  },
  {
   "cell_type": "code",
   "execution_count": 18,
   "metadata": {},
   "outputs": [],
   "source": [
    "# Create folder\n",
    "#now = datetime.now()\n",
    "#dt_string = now.strftime(\"%d_%m_%Y_%H_%M_%S\")\n",
    "#path = 'generated_trajectories_' + dt_string\n",
    "#os.mkdir(path)\n",
    "# Save generated trajectories\n",
    "#for i in range(trajs_acceptable_nb):\n",
    "#    trajs_acceptable[i].to_csv(path + '/trajectory_' + str(i) + '.csv')"
   ]
  }
 ],
 "metadata": {
  "kernelspec": {
   "display_name": "Python 3",
   "language": "python",
   "name": "python3"
  },
  "language_info": {
   "codemirror_mode": {
    "name": "ipython",
    "version": 3
   },
   "file_extension": ".py",
   "mimetype": "text/x-python",
   "name": "python",
   "nbconvert_exporter": "python",
   "pygments_lexer": "ipython3",
   "version": "3.7.2"
  }
 },
 "nbformat": 4,
 "nbformat_minor": 4
}