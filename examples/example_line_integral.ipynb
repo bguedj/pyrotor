{
 "cells": [
  {
   "cell_type": "markdown",
   "metadata": {},
   "source": [
    "# Example on line integrals of a vector field"
   ]
  },
  {
   "cell_type": "code",
   "execution_count": 1,
   "metadata": {},
   "outputs": [],
   "source": [
    "import matplotlib.pyplot as plt\n",
    "import numpy as np\n",
    "import pandas as pd\n",
    "from glob import glob\n",
    "from matplotlib import cm\n",
    "import pyrotor"
   ]
  },
  {
   "cell_type": "markdown",
   "metadata": {},
   "source": [
    "## Define setting"
   ]
  },
  {
   "cell_type": "markdown",
   "metadata": {},
   "source": [
    "### Define cost function"
   ]
  },
  {
   "cell_type": "code",
   "execution_count": 2,
   "metadata": {},
   "outputs": [],
   "source": [
    "# Model - \\int_0^1 F(y(t)) y'(t) dt with F(y) = (0, y_1)\n",
    "# Quadratic part\n",
    "q = np.array([[0,0,0,-1],\n",
    "              [0,0,0,0],\n",
    "              [0,0,0,0],\n",
    "              [-1,0,0,0]])\n",
    "# Linear part\n",
    "w = np.array([0,0,0,0])\n",
    "\n",
    "# Constant part\n",
    "c = 0\n",
    "\n",
    "quadratic_model = [c, w, q]"
   ]
  },
  {
   "cell_type": "markdown",
   "metadata": {},
   "source": [
    "### Define initial and final states"
   ]
  },
  {
   "cell_type": "code",
   "execution_count": 3,
   "metadata": {},
   "outputs": [],
   "source": [
    "endpoints = {'x1': {'start': .111,\n",
    "                    'end': .912,\n",
    "                    'delta': 0.0001},\n",
    "             'x2': {'start': .926,\n",
    "                    'end': .211,\n",
    "                    'delta': 0.0001}}"
   ]
  },
  {
   "cell_type": "markdown",
   "metadata": {},
   "source": [
    "### Define independent variable (time)"
   ]
  },
  {
   "cell_type": "code",
   "execution_count": 4,
   "metadata": {},
   "outputs": [],
   "source": [
    "independent_variable = {'start': .1,\n",
    "                        'end': .9,\n",
    "                        'frequency': .01}\n",
    "# Compute number of evaluation points\n",
    "delta_time = independent_variable['end'] - independent_variable['start']\n",
    "delta_time /= independent_variable['frequency']\n",
    "independent_variable['points_nb'] = int(delta_time) + 1"
   ]
  },
  {
   "cell_type": "markdown",
   "metadata": {},
   "source": [
    "### Define constraints"
   ]
  },
  {
   "cell_type": "code",
   "execution_count": 5,
   "metadata": {},
   "outputs": [],
   "source": [
    "# Constraints\n",
    "# x1 > 0\n",
    "def f1(data):\n",
    "    x1 = data[\"x1\"].values\n",
    "    return x1\n",
    "\n",
    "# x1 < 1\n",
    "def f2(data):\n",
    "    x1 = data[\"x1\"].values\n",
    "    return 1 - x1\n",
    "\n",
    "# x2 > 0\n",
    "def f3(data):\n",
    "    x2 = data[\"x2\"].values\n",
    "    return x2\n",
    "\n",
    "# x2 < 1\n",
    "def f4(data):\n",
    "    x2 = data[\"x2\"].values\n",
    "    return 1 - x2\n",
    "\n",
    "constraints = [f1, f2, f3, f4]"
   ]
  },
  {
   "cell_type": "markdown",
   "metadata": {},
   "source": [
    "### Define functional basis"
   ]
  },
  {
   "cell_type": "code",
   "execution_count": 6,
   "metadata": {},
   "outputs": [],
   "source": [
    "# Basis name\n",
    "basis = 'legendre'\n",
    "# Dimension for each variable\n",
    "basis_dimension = {'x1': 4,\n",
    "                   'x2': 6}"
   ]
  },
  {
   "cell_type": "markdown",
   "metadata": {},
   "source": [
    "### Import reference trajectories"
   ]
  },
  {
   "cell_type": "code",
   "execution_count": 7,
   "metadata": {},
   "outputs": [
    {
     "name": "stdout",
     "output_type": "stream",
     "text": [
      "/home/arthur/miniconda3/lib/python3.8/site-packages/pyrotor/toy_dataset/example_1/*.csv\n"
     ]
    }
   ],
   "source": [
    "reference_trajectories = pyrotor.datasets.load_toy_dataset('example_1')"
   ]
  },
  {
   "cell_type": "markdown",
   "metadata": {},
   "source": [
    "## Optimize"
   ]
  },
  {
   "cell_type": "markdown",
   "metadata": {},
   "source": [
    "### Create PyRotor class"
   ]
  },
  {
   "cell_type": "code",
   "execution_count": 8,
   "metadata": {},
   "outputs": [],
   "source": [
    "sigma = np.eye(10)\n",
    "\n",
    "mr_pyrotor = pyrotor.Pyrotor(quadratic_model, \n",
    "                             reference_trajectories, \n",
    "                             endpoints, \n",
    "                             constraints, \n",
    "                             basis, \n",
    "                             basis_dimension, \n",
    "                             independent_variable, \n",
    "                             n_best_trajectory_to_use=5,\n",
    "                             opti_factor=1,\n",
    "                             #sigma=sigma,\n",
    "                             derivative=True,\n",
    "                             use_quadratic_programming=False,\n",
    "                             verbose=True)"
   ]
  },
  {
   "cell_type": "markdown",
   "metadata": {},
   "source": [
    "### Execute PyRotor solver"
   ]
  },
  {
   "cell_type": "code",
   "execution_count": null,
   "metadata": {
    "scrolled": true
   },
   "outputs": [],
   "source": [
    "mr_pyrotor.compute_optimal_trajectory()\n",
    "print(mr_pyrotor.trajectory)"
   ]
  },
  {
   "cell_type": "markdown",
   "metadata": {},
   "source": [
    "### Compute savings"
   ]
  },
  {
   "cell_type": "code",
   "execution_count": null,
   "metadata": {},
   "outputs": [],
   "source": [
    "mr_pyrotor.compute_gains()"
   ]
  },
  {
   "cell_type": "code",
   "execution_count": null,
   "metadata": {},
   "outputs": [],
   "source": [
    "mr_pyrotor.compute_relative_gains()"
   ]
  },
  {
   "cell_type": "markdown",
   "metadata": {},
   "source": [
    "## Plot"
   ]
  },
  {
   "cell_type": "code",
   "execution_count": null,
   "metadata": {},
   "outputs": [],
   "source": [
    "X = np.linspace(independent_variable['start'],\n",
    "                independent_variable['end'],\n",
    "                independent_variable['points_nb'])\n",
    "\n",
    "positions_x, positions_y = np.meshgrid(np.arange(0,1,.1), np.arange(0,1,.1))\n",
    "arrays_y = .5 * positions_x\n",
    "arrays_x = np.zeros_like(arrays_y)\n",
    "\n",
    "cost = - mr_pyrotor.cost_by_time\n",
    "\n",
    "fig, (ax1, ax2, ax3) = plt.subplots(3, 1, figsize=(12, 20))\n",
    "ax1.plot(X, mr_pyrotor.trajectory['x1'])\n",
    "ax1.plot(X, mr_pyrotor.reference_trajectories[0]['x1'], linestyle=':')\n",
    "ax1.set_xlabel('$t$')\n",
    "ax1.set_ylabel('$x_1(t)$')\n",
    "ax2.plot(X, mr_pyrotor.trajectory['x2'])\n",
    "ax2.plot(X, mr_pyrotor.reference_trajectories[0]['x2'], linestyle=':')\n",
    "ax2.set_xlabel('$t$')\n",
    "ax2.set_ylabel('$x_2(t)$')\n",
    "ax3.plot(mr_pyrotor.trajectory['x1'], mr_pyrotor.trajectory['x2'], c='b', alpha=.5,\n",
    "         label='Optimized trajectory')\n",
    "im = ax3.scatter(mr_pyrotor.trajectory['x1'], mr_pyrotor.trajectory['x2'], c=cost)\n",
    "for trajectory in mr_pyrotor.reference_trajectories:\n",
    "    ax3.plot(trajectory['x1'], trajectory['x2'], linestyle=\":\", label='_nolegend_')\n",
    "ax3.quiver(positions_x, positions_y, arrays_x, arrays_y, color='r', width=.002, alpha=.3)\n",
    "fig.colorbar(im, ax=ax3)\n",
    "ax3.set_xlabel('$x_1$')\n",
    "ax3.set_ylabel('$x_2$')\n",
    "ax3.set_xlim(left=0, right=1)\n",
    "ax3.set_ylim(bottom=0, top=1)\n",
    "ax3.legend()\n",
    "plt.tight_layout()"
   ]
  }
 ],
 "metadata": {
  "kernelspec": {
   "display_name": "Python 3",
   "language": "python",
   "name": "python3"
  },
  "language_info": {
   "codemirror_mode": {
    "name": "ipython",
    "version": 3
   },
   "file_extension": ".py",
   "mimetype": "text/x-python",
   "name": "python",
   "nbconvert_exporter": "python",
   "pygments_lexer": "ipython3",
   "version": "3.8.3"
  }
 },
 "nbformat": 4,
 "nbformat_minor": 4
}
