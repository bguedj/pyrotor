{
 "cells": [
  {
   "cell_type": "markdown",
   "metadata": {},
   "source": [
    "# Simple example"
   ]
  },
  {
   "cell_type": "code",
   "execution_count": null,
   "metadata": {},
   "outputs": [],
   "source": [
    "import matplotlib.pyplot as plt\n",
    "import numpy as np\n",
    "import pandas as pd\n",
    "\n",
    "from glob import glob\n",
    "\n",
    "import pyrotor"
   ]
  },
  {
   "cell_type": "markdown",
   "metadata": {},
   "source": [
    "## Define settings"
   ]
  },
  {
   "cell_type": "markdown",
   "metadata": {},
   "source": [
    "### Define quadratic cost function"
   ]
  },
  {
   "cell_type": "code",
   "execution_count": null,
   "metadata": {},
   "outputs": [],
   "source": [
    "# Cost function forcing the trajectory to be close to the horizontal axis\n",
    "\n",
    "# Quadratic part\n",
    "q = np.array([[0,0],\n",
    "              [0,1]])\n",
    "# Linear part\n",
    "w = np.array([0,0])\n",
    "# Constant part\n",
    "c = 1\n",
    "\n",
    "quadratic_model = [c, w, q]"
   ]
  },
  {
   "cell_type": "markdown",
   "metadata": {},
   "source": [
    "### Define initial and final states"
   ]
  },
  {
   "cell_type": "code",
   "execution_count": null,
   "metadata": {},
   "outputs": [],
   "source": [
    "endpoints = {'x1': {'start': .111,\n",
    "                    'end': .912,\n",
    "                    'delta': 0.0001},\n",
    "             'x2': {'start': .926,\n",
    "                    'end': .211,\n",
    "                    'delta': 0.0001}}"
   ]
  },
  {
   "cell_type": "markdown",
   "metadata": {},
   "source": [
    "### Define independent variable (time)"
   ]
  },
  {
   "cell_type": "code",
   "execution_count": null,
   "metadata": {},
   "outputs": [],
   "source": [
    "independent_variable = {'start': .1,\n",
    "                        'end': .9,\n",
    "                        'frequency': .01}\n",
    "# Compute number of evaluation points\n",
    "delta_time = independent_variable['end'] - independent_variable['start']\n",
    "delta_time /= independent_variable['frequency']\n",
    "independent_variable['points_nb'] = int(delta_time) + 1"
   ]
  },
  {
   "cell_type": "markdown",
   "metadata": {},
   "source": [
    "### Define constraints"
   ]
  },
  {
   "cell_type": "code",
   "execution_count": null,
   "metadata": {},
   "outputs": [],
   "source": [
    "# x1 > 0\n",
    "def f1(data):\n",
    "    x1 = data[\"x1\"].values\n",
    "    return x1\n",
    "\n",
    "# x1 < 1\n",
    "def f2(data):\n",
    "    x1 = data[\"x1\"].values\n",
    "    return 1 - x1\n",
    "\n",
    "# x2 > 0\n",
    "def f3(data):\n",
    "    x2 = data[\"x2\"].values\n",
    "    return x2\n",
    "\n",
    "# x2 < 1\n",
    "def f4(data):\n",
    "    x2 = data[\"x2\"].values\n",
    "    return 1 - x2\n",
    "\n",
    "# x2 > f(x1)\n",
    "def f5(data):\n",
    "    x1 = data[\"x1\"].values\n",
    "    x2 = data[\"x2\"].values\n",
    "    return x2 - 150/19 * (1-x1)**3 + 225/19 * (1-x1)**2 - 100/19 * (1-x1) + 79/190\n",
    "\n",
    "constraints = [f1, f2, f3, f4, f5]"
   ]
  },
  {
   "cell_type": "markdown",
   "metadata": {},
   "source": [
    "### Define functional basis"
   ]
  },
  {
   "cell_type": "code",
   "execution_count": null,
   "metadata": {},
   "outputs": [],
   "source": [
    "basis = 'legendre'\n",
    "basis_dimension = {'x1': 4,\n",
    "                   'x2': 6}"
   ]
  },
  {
   "cell_type": "markdown",
   "metadata": {},
   "source": [
    "### Import reference trajectories"
   ]
  },
  {
   "cell_type": "code",
   "execution_count": null,
   "metadata": {},
   "outputs": [],
   "source": [
    "reference_trajectories = pyrotor.datasets.load_toy_dataset(\"example_1\")"
   ]
  },
  {
   "cell_type": "markdown",
   "metadata": {},
   "source": [
    "## Optimization"
   ]
  },
  {
   "cell_type": "markdown",
   "metadata": {},
   "source": [
    "### Create PyRotor class"
   ]
  },
  {
   "cell_type": "code",
   "execution_count": null,
   "metadata": {},
   "outputs": [],
   "source": [
    "mr_pyrotor = pyrotor.Pyrotor(quadratic_model, \n",
    "                             reference_trajectories, \n",
    "                             endpoints, \n",
    "                             constraints, \n",
    "                             basis, \n",
    "                             basis_dimension, \n",
    "                             independent_variable, \n",
    "                             n_best_trajectory_to_use=5,\n",
    "                             opti_factor=1,\n",
    "                             use_quadratic_programming=True,\n",
    "                             verbose=False)"
   ]
  },
  {
   "cell_type": "markdown",
   "metadata": {},
   "source": [
    "### Execute PyRotor solver"
   ]
  },
  {
   "cell_type": "code",
   "execution_count": null,
   "metadata": {},
   "outputs": [],
   "source": [
    "mr_pyrotor.compute_optimal_trajectory()"
   ]
  },
  {
   "cell_type": "markdown",
   "metadata": {},
   "source": [
    "### Compute savings"
   ]
  },
  {
   "cell_type": "code",
   "execution_count": null,
   "metadata": {},
   "outputs": [],
   "source": [
    "savings = pd.Series(mr_pyrotor.compute_gains(), name='Savings')\n",
    "print(savings)"
   ]
  },
  {
   "cell_type": "code",
   "execution_count": null,
   "metadata": {},
   "outputs": [],
   "source": [
    "relative_savings = pd.Series(mr_pyrotor.compute_relative_gains() * 100, name='Relative savings [%]')\n",
    "print(relative_savings)"
   ]
  },
  {
   "cell_type": "markdown",
   "metadata": {},
   "source": [
    "## Plot"
   ]
  },
  {
   "cell_type": "code",
   "execution_count": null,
   "metadata": {},
   "outputs": [],
   "source": [
    "# Define time axis\n",
    "X = np.linspace(independent_variable['start'],\n",
    "                independent_variable['end'],\n",
    "                independent_variable['points_nb'])\n",
    "\n",
    "# Define nonlinear constraint to plot\n",
    "X_ = np.linspace(0, 1, 101)\n",
    "constraint_f5 = np.array([150/19 * (1-x)**3 - 225/19 * (1-x)**2 + 100/19 * (1-x) - 79/190 for x in X_])\n",
    "\n",
    "# Plot\n",
    "fig, (ax1, ax2, ax3) = plt.subplots(3, 1, figsize=(12, 20))\n",
    "# Plot first variable with respect to time\n",
    "ax1.plot(X, mr_pyrotor.trajectory['x1'])\n",
    "ax1.set_xlabel('$t$')\n",
    "ax1.set_ylabel('$x_1(t)$')\n",
    "# Plot second variable with respect to time\n",
    "ax2.plot(X, mr_pyrotor.trajectory['x2'])\n",
    "ax2.set_xlabel('$t$')\n",
    "ax2.set_ylabel('$x_2(t)$')\n",
    "# Plot in (x_1, x_2) space\n",
    "ax3.plot(mr_pyrotor.trajectory['x1'], mr_pyrotor.trajectory['x2'], color='b', label='Optimized trajectory')\n",
    "for trajectory in mr_pyrotor.reference_trajectories:\n",
    "    ax3.plot(trajectory['x1'], trajectory['x2'], linestyle=\":\", label='_nolegend_')\n",
    "ax3.fill_between(X_, 0, constraint_f5, color='r', alpha=.5, label='Forbidden area')\n",
    "ax3.set_xlabel('$x_1$')\n",
    "ax3.set_ylabel('$x_2$')\n",
    "ax3.set_xlim(left=0, right=1)\n",
    "ax3.set_ylim(bottom=0, top=1)\n",
    "ax3.legend()\n",
    "plt.tight_layout()"
   ]
  }
 ],
 "metadata": {
  "kernelspec": {
   "display_name": "Python 3",
   "language": "python",
   "name": "python3"
  },
  "language_info": {
   "codemirror_mode": {
    "name": "ipython",
    "version": 3
   },
   "file_extension": ".py",
   "mimetype": "text/x-python",
   "name": "python",
   "nbconvert_exporter": "python",
   "pygments_lexer": "ipython3",
   "version": "3.7.2"
  }
 },
 "nbformat": 4,
 "nbformat_minor": 4
}